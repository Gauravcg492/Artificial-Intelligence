{
 "cells": [
  {
   "cell_type": "code",
   "execution_count": 27,
   "metadata": {},
   "outputs": [],
   "source": [
    "import pandas as pd\n",
    "from sklearn.model_selection import train_test_split\n",
    "from sklearn.preprocessing import StandardScaler as SC\n",
    "import numpy as np\n",
    "from keras.models import Sequential\n",
    "from keras.layers import Dense\n",
    "from keras.layers import Activation\n",
    "from scipy.stats import levy\n",
    "from sklearn.preprocessing import MinMaxScaler\n",
    "from algorithms import simulated_annealing,GeomDecay, random_hill_climb\n",
    "from neural import NetworkWeights,ContinuousOpt,gradient_descent\n",
    "from activation import relu\n",
    "from sklearn.metrics import accuracy_score\n",
    "from datetime import datetime"
   ]
  },
  {
   "cell_type": "code",
   "execution_count": 54,
   "metadata": {},
   "outputs": [],
   "source": [
    "def get_weights(weights):\n",
    "    #sws = [np.reshape(weights[0:96],(24,4)),np.reshape(weights[96:100],4),np.reshape(weights[100:116],(4,4)),np.reshape(weights[116:120],4),np.reshape(weights[120:124],(4,1)),weights[124]]\n",
    "    sws = [np.reshape(weights[0:96],(24,4)),np.reshape(weights[96:100],4),np.reshape(weights[100:116],(4,4)),[0.,0.,0.,0.],np.reshape(weights[116:120],(4,1)),[0.]]\n",
    "    return sws\n",
    "\n",
    "def predict(weights,X_test,Y_test,model):\n",
    "    sws = get_weights(weights)\n",
    "    model.set_weights(sws)\n",
    "    y_pred = model.predict(X_test)\n",
    "    # setting a confidence threshhold of 0.9\n",
    "    y_pred_labels = list(y_pred > 0.9)\n",
    "\n",
    "    for i in range(len(y_pred_labels)):\n",
    "        if int(y_pred_labels[i]) == 1 : y_pred_labels[i] = 1\n",
    "        else : y_pred_labels[i] = 0\n",
    "    return accuracy_score(Y_test,y_pred_labels)\n",
    "\n",
    "def BackPropagation():\n",
    "    model = Sequential()\n",
    "    model.add(Dense(4,input_dim=X_train.shape[1]))\n",
    "    model.add(Activation('relu'))\n",
    "    model.add(Dense(4))\n",
    "    model.add(Activation('relu'))\n",
    "    model.add(Dense(1))\n",
    "    model.add(Activation('sigmoid'))\n",
    "    model1 = model\n",
    "    model.compile(loss='binary_crossentropy',optimizer='adam',metrics=['accuracy'])\n",
    "    model.fit(X_train,Y_train,batch_size=2,epochs=50,validation_data = (X_test,Y_test))\n",
    "    y_pred = model.predict(X_test)\n",
    "    # setting a confidence threshhold of 0.9\n",
    "    y_pred_labels = list(y_pred > 0.9)\n",
    "\n",
    "    for i in range(len(y_pred_labels)):\n",
    "        if int(y_pred_labels[i]) == 1 : y_pred_labels[i] = 1\n",
    "        else : y_pred_labels[i] = 0\n",
    "    return accuracy_score(Y_test,y_pred_labels)\n",
    "\n",
    "\n",
    "def EagleStrategyWithSA(model,iters):\n",
    "    mn = MinMaxScaler(feature_range=(-3,3))\n",
    "    r = levy.rvs(size=iters)\n",
    "    max_accuracy = 0\n",
    "    final_weights = []\n",
    "    count = 1\n",
    "    for i in list(r):\n",
    "        weights = np.random.uniform(-1,1,120)\n",
    "        weights = weights * i\n",
    "        weights = mn.fit_transform(weights.reshape(-1,1))\n",
    "        acc0 = predict(weights,X_test,Y_test,model)\n",
    "        if acc0 > 0.5:\n",
    "\n",
    "            clip_max = 3\n",
    "            fitness = NetworkWeights(X_train,Y_train,[25,4,4,1],relu,True,True,0.2)\n",
    "            problem = ContinuousOpt(120,fitness,maximize=False,min_val=-1*clip_max,max_val=clip_max,step=0.2)\n",
    "            #print(problem.get_length(),len(weights))\n",
    "            fitted_weights, loss = simulated_annealing(problem,schedule=GeomDecay(),max_attempts=50,max_iters=500,init_state=weights,curve=False)\n",
    "            acc = predict(fitted_weights,X_test,Y_test,model)\n",
    "            if acc > max_accuracy:\n",
    "                #print(acc0)\n",
    "                max_accuracy = acc\n",
    "                final_weights = fitted_weights\n",
    "            if max_accuracy > 0.99:\n",
    "                break\n",
    "            count+=1\n",
    "    return max_accuracy,loss,count,final_weights  \n",
    "\n",
    "def EagleStrategyWithHill(model,iters,rate):\n",
    "    mn = MinMaxScaler(feature_range=(-3,3))\n",
    "    r = levy.rvs(size=iters)\n",
    "    max_accuracy = 0\n",
    "    final_weights = []\n",
    "    count = 1\n",
    "    for i in list(r):\n",
    "        weights = np.random.uniform(-1,1,120)\n",
    "        weights = weights * i\n",
    "        weights = mn.fit_transform(weights.reshape(-1,1))\n",
    "        acc = predict(weights,X_test,Y_test,model)\n",
    "        if acc > 0.5:\n",
    "            clip_max = 5\n",
    "            fitness = NetworkWeights(X_train,Y_train,[25,4,4,1],relu,True,True,rate)\n",
    "            problem = ContinuousOpt(120,fitness,maximize=False,min_val=-1*clip_max,max_val=clip_max,step=rate)\n",
    "            #print(problem.get_length(),len(weights))\n",
    "            fitted_weights, loss = random_hill_climb(problem, max_attempts=10, max_iters=1000, restarts=0,\n",
    "                      init_state=weights, curve=False, random_state=None)\n",
    "            acc = predict(fitted_weights,X_test,Y_test,model)\n",
    "            if acc > max_accuracy:\n",
    "                max_accuracy = acc\n",
    "                final_weights = fitted_weights\n",
    "            if max_accuracy > 0.95:\n",
    "                break\n",
    "            count+=1\n",
    "    return max_accuracy "
   ]
  },
  {
   "cell_type": "code",
   "execution_count": 29,
   "metadata": {},
   "outputs": [],
   "source": [
    "df = pd.read_csv('Eyes.csv')\n",
    "X = df[df.columns[1:25]]\n",
    "Y = df[df.columns[25]]\n",
    "X_train, X_test, Y_train, Y_test = train_test_split(X,Y,test_size=0.10,random_state=42)\n",
    "\n",
    "sc = SC()\n",
    "X_train = sc.fit_transform(X_train)\n",
    "X_test = sc.fit_transform(X_test)\n",
    "X_train, X_test, Y_train, Y_test = np.array(X_train), np.array(X_test), np.array(Y_train), np.array(Y_test)"
   ]
  },
  {
   "cell_type": "code",
   "execution_count": 30,
   "metadata": {},
   "outputs": [],
   "source": [
    "# Create model\n",
    "model = Sequential()\n",
    "model.add(Dense(4,input_dim=X_train.shape[1]))\n",
    "model.add(Activation('relu'))\n",
    "model.add(Dense(4))\n",
    "model.add(Activation('relu'))\n",
    "model.add(Dense(1))\n",
    "model.add(Activation('sigmoid'))"
   ]
  },
  {
   "cell_type": "code",
   "execution_count": 55,
   "metadata": {},
   "outputs": [
    {
     "name": "stdout",
     "output_type": "stream",
     "text": [
      "Time taken  0:00:07.645567\n",
      "0.96\n"
     ]
    },
    {
     "ename": "NameError",
     "evalue": "name 'random_hill_climb' is not defined",
     "output_type": "error",
     "traceback": [
      "\u001b[1;31m---------------------------------------------------------------------------\u001b[0m",
      "\u001b[1;31mNameError\u001b[0m                                 Traceback (most recent call last)",
      "\u001b[1;32m<ipython-input-55-a31a0ebe20da>\u001b[0m in \u001b[0;36m<module>\u001b[1;34m()\u001b[0m\n\u001b[0;32m      4\u001b[0m \u001b[0mprint\u001b[0m\u001b[1;33m(\u001b[0m\u001b[0maccuracy\u001b[0m\u001b[1;33m)\u001b[0m\u001b[1;33m\u001b[0m\u001b[0m\n\u001b[0;32m      5\u001b[0m \u001b[0mstart\u001b[0m \u001b[1;33m=\u001b[0m \u001b[0mdatetime\u001b[0m\u001b[1;33m.\u001b[0m\u001b[0mnow\u001b[0m\u001b[1;33m(\u001b[0m\u001b[1;33m)\u001b[0m\u001b[1;33m\u001b[0m\u001b[0m\n\u001b[1;32m----> 6\u001b[1;33m \u001b[0maccuracy\u001b[0m \u001b[1;33m=\u001b[0m \u001b[0mEagleStrategyWithHill\u001b[0m\u001b[1;33m(\u001b[0m\u001b[0mmodel\u001b[0m\u001b[1;33m,\u001b[0m\u001b[1;36m40\u001b[0m\u001b[1;33m,\u001b[0m\u001b[1;36m0.2\u001b[0m\u001b[1;33m)\u001b[0m\u001b[1;33m\u001b[0m\u001b[0m\n\u001b[0m\u001b[0;32m      7\u001b[0m \u001b[0mprint\u001b[0m\u001b[1;33m(\u001b[0m\u001b[1;34m\"Time taken \"\u001b[0m\u001b[1;33m,\u001b[0m\u001b[0mdatetime\u001b[0m\u001b[1;33m.\u001b[0m\u001b[0mnow\u001b[0m\u001b[1;33m(\u001b[0m\u001b[1;33m)\u001b[0m\u001b[1;33m-\u001b[0m\u001b[0mstart\u001b[0m\u001b[1;33m)\u001b[0m\u001b[1;33m\u001b[0m\u001b[0m\n\u001b[0;32m      8\u001b[0m \u001b[0mprint\u001b[0m\u001b[1;33m(\u001b[0m\u001b[0maccuracy\u001b[0m\u001b[1;33m)\u001b[0m\u001b[1;33m\u001b[0m\u001b[0m\n",
      "\u001b[1;32m<ipython-input-54-037211c556f1>\u001b[0m in \u001b[0;36mEagleStrategyWithHill\u001b[1;34m(model, iters, rate)\u001b[0m\n\u001b[0;32m     81\u001b[0m             \u001b[0mproblem\u001b[0m \u001b[1;33m=\u001b[0m \u001b[0mContinuousOpt\u001b[0m\u001b[1;33m(\u001b[0m\u001b[1;36m120\u001b[0m\u001b[1;33m,\u001b[0m\u001b[0mfitness\u001b[0m\u001b[1;33m,\u001b[0m\u001b[0mmaximize\u001b[0m\u001b[1;33m=\u001b[0m\u001b[1;32mFalse\u001b[0m\u001b[1;33m,\u001b[0m\u001b[0mmin_val\u001b[0m\u001b[1;33m=\u001b[0m\u001b[1;33m-\u001b[0m\u001b[1;36m1\u001b[0m\u001b[1;33m*\u001b[0m\u001b[0mclip_max\u001b[0m\u001b[1;33m,\u001b[0m\u001b[0mmax_val\u001b[0m\u001b[1;33m=\u001b[0m\u001b[0mclip_max\u001b[0m\u001b[1;33m,\u001b[0m\u001b[0mstep\u001b[0m\u001b[1;33m=\u001b[0m\u001b[0mrate\u001b[0m\u001b[1;33m)\u001b[0m\u001b[1;33m\u001b[0m\u001b[0m\n\u001b[0;32m     82\u001b[0m             \u001b[1;31m#print(problem.get_length(),len(weights))\u001b[0m\u001b[1;33m\u001b[0m\u001b[1;33m\u001b[0m\u001b[0m\n\u001b[1;32m---> 83\u001b[1;33m             fitted_weights, loss = random_hill_climb(problem, max_attempts=10, max_iters=1000, restarts=0,\n\u001b[0m\u001b[0;32m     84\u001b[0m                       init_state=weights, curve=False, random_state=None)\n\u001b[0;32m     85\u001b[0m             \u001b[0macc\u001b[0m \u001b[1;33m=\u001b[0m \u001b[0mpredict\u001b[0m\u001b[1;33m(\u001b[0m\u001b[0mfitted_weights\u001b[0m\u001b[1;33m,\u001b[0m\u001b[0mX_test\u001b[0m\u001b[1;33m,\u001b[0m\u001b[0mY_test\u001b[0m\u001b[1;33m,\u001b[0m\u001b[0mmodel\u001b[0m\u001b[1;33m)\u001b[0m\u001b[1;33m\u001b[0m\u001b[0m\n",
      "\u001b[1;31mNameError\u001b[0m: name 'random_hill_climb' is not defined"
     ]
    }
   ],
   "source": [
    "start = datetime.now()\n",
    "accuracy,loss,count,final_weights = EagleStrategyWithSA(model,40)\n",
    "print(\"Time taken \",datetime.now()-start)\n",
    "print(accuracy)\n",
    "start = datetime.now()\n",
    "accuracy = EagleStrategyWithHill(model,40,0.2)\n",
    "print(\"Time taken \",datetime.now()-start)\n",
    "print(accuracy)\n",
    "start = datetime.now()\n",
    "accuracy = BackPropagation()\n",
    "print(\"Time taken \",datetime.now()-start)\n",
    "print(accuracy)"
   ]
  },
  {
   "cell_type": "code",
   "execution_count": null,
   "metadata": {},
   "outputs": [],
   "source": []
  }
 ],
 "metadata": {
  "kernelspec": {
   "display_name": "Python 3",
   "language": "python",
   "name": "python3"
  },
  "language_info": {
   "codemirror_mode": {
    "name": "ipython",
    "version": 3
   },
   "file_extension": ".py",
   "mimetype": "text/x-python",
   "name": "python",
   "nbconvert_exporter": "python",
   "pygments_lexer": "ipython3",
   "version": "3.6.5"
  }
 },
 "nbformat": 4,
 "nbformat_minor": 2
}
