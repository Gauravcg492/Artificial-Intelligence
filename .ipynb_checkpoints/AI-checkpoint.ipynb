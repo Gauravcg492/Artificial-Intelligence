{
 "cells": [
  {
   "cell_type": "code",
   "execution_count": 9,
   "metadata": {},
   "outputs": [],
   "source": [
    "import pandas as pd\n",
    "from sklearn.model_selection import train_test_split\n",
    "from sklearn.preprocessing import StandardScaler as SC\n",
    "import numpy as np\n",
    "from keras.models import Sequential\n",
    "from keras.layers import Dense\n",
    "from keras.layers import Activation\n",
    "from scipy.stats import levy\n",
    "from sklearn.preprocessing import MinMaxScaler\n",
    "from algorithms import simulated_annealing,GeomDecay\n",
    "from neural import NetworkWeights,ContinuousOpt\n",
    "from activation import relu\n",
    "from sklearn.metrics import accuracy_score\n",
    "\n",
    "def get_weights(weights):\n",
    "    #sws = [np.reshape(weights[0:96],(24,4)),np.reshape(weights[96:100],4),np.reshape(weights[100:116],(4,4)),np.reshape(weights[116:120],4),np.reshape(weights[120:124],(4,1)),weights[124]]\n",
    "    sws = [np.reshape(weights[0:96],(24,4)),np.reshape(weights[96:100],4),np.reshape(weights[100:116],(4,4)),[0.,0.,0.,0.],np.reshape(weights[116:120],(4,1)),[0.]]\n",
    "    return sws\n",
    "\n",
    "def predict(weights,X_test,Y_test,model):\n",
    "    sws = get_weights(weights)\n",
    "    model.set_weights(sws)\n",
    "    y_pred = model.predict(X_test)\n",
    "    # setting a confidence threshhold of 0.9\n",
    "    y_pred_labels = list(y_pred > 0.9)\n",
    "\n",
    "    for i in range(len(y_pred_labels)):\n",
    "        if int(y_pred_labels[i]) == 1 : y_pred_labels[i] = 1\n",
    "        else : y_pred_labels[i] = 0\n",
    "    return accuracy_score(Y_test,y_pred_labels)"
   ]
  },
  {
   "cell_type": "code",
   "execution_count": 10,
   "metadata": {},
   "outputs": [],
   "source": [
    "df = pd.read_csv('Eyes.csv')\n",
    "X = df[df.columns[1:25]]\n",
    "Y = df[df.columns[25]]\n",
    "X_train, X_test, Y_train, Y_test = train_test_split(X,Y,test_size=0.10,random_state=42)\n",
    "\n",
    "sc = SC()\n",
    "X_train = sc.fit_transform(X_train)\n",
    "X_test = sc.fit_transform(X_test)\n",
    "X_train, X_test, Y_train, Y_test = np.array(X_train), np.array(X_test), np.array(Y_train), np.array(Y_test)"
   ]
  },
  {
   "cell_type": "code",
   "execution_count": 11,
   "metadata": {},
   "outputs": [],
   "source": [
    "# Create model\n",
    "model = Sequential()\n",
    "model.add(Dense(4,input_dim=X_train.shape[1]))\n",
    "model.add(Activation('relu'))\n",
    "model.add(Dense(4))\n",
    "model.add(Activation('relu'))\n",
    "model.add(Dense(1))\n",
    "model.add(Activation('sigmoid'))"
   ]
  },
  {
   "cell_type": "code",
   "execution_count": 12,
   "metadata": {},
   "outputs": [
    {
     "name": "stdout",
     "output_type": "stream",
     "text": [
      "120 120\n",
      "120 120\n",
      "120 120\n",
      "120 120\n",
      "120 120\n",
      "120 120\n",
      "120 120\n",
      "120 120\n",
      "120 120\n",
      "120 120\n",
      "120 120\n",
      "120 120\n",
      "120 120\n",
      "120 120\n",
      "120 120\n",
      "120 120\n"
     ]
    },
    {
     "data": {
      "text/plain": [
       "1.0"
      ]
     },
     "execution_count": 12,
     "metadata": {},
     "output_type": "execute_result"
    }
   ],
   "source": [
    "mn = MinMaxScaler(feature_range=(-3,3))\n",
    "r = levy.rvs(size=50)\n",
    "max_accuracy = 0\n",
    "final_weights = []\n",
    "for i in list(r):\n",
    "    weights = np.random.uniform(-1,1,120)\n",
    "    weights = weights * i\n",
    "    weights = mn.fit_transform(weights.reshape(-1,1))\n",
    "    acc = predict(weights,X_test,Y_test,model)\n",
    "    if acc > 0.5:\n",
    "        clip_max = 5\n",
    "        fitness = NetworkWeights(X_train,Y_train,[25,4,4,1],relu,True,True,0.2)\n",
    "        problem = ContinuousOpt(120,fitness,maximize=False,min_val=-1*clip_max,max_val=clip_max,step=0.2)\n",
    "        #print(problem.get_length(),len(weights))\n",
    "        fitted_weights, loss = simulated_annealing(problem,schedule=GeomDecay(),max_attempts=10,max_iters=1000,init_state=weights,curve=False)\n",
    "        acc = predict(fitted_weights,X_test,Y_test,model)\n",
    "        if acc > max_accuracy:\n",
    "            max_accuracy = acc\n",
    "            final_weights = fitted_weights\n",
    "        if max_accuracy > 0.95:\n",
    "            break\n",
    "            \n",
    "\n",
    "max_accuracy        "
   ]
  },
  {
   "cell_type": "code",
   "execution_count": 64,
   "metadata": {},
   "outputs": [
    {
     "name": "stdout",
     "output_type": "stream",
     "text": [
      "120 120\n",
      "0.28\n"
     ]
    }
   ],
   "source": [
    "\n"
   ]
  },
  {
   "cell_type": "code",
   "execution_count": 47,
   "metadata": {},
   "outputs": [],
   "source": [
    "\n"
   ]
  },
  {
   "cell_type": "code",
   "execution_count": null,
   "metadata": {},
   "outputs": [],
   "source": []
  },
  {
   "cell_type": "code",
   "execution_count": null,
   "metadata": {},
   "outputs": [],
   "source": []
  }
 ],
 "metadata": {
  "kernelspec": {
   "display_name": "Python 3",
   "language": "python",
   "name": "python3"
  },
  "language_info": {
   "codemirror_mode": {
    "name": "ipython",
    "version": 3
   },
   "file_extension": ".py",
   "mimetype": "text/x-python",
   "name": "python",
   "nbconvert_exporter": "python",
   "pygments_lexer": "ipython3",
   "version": "3.6.5"
  }
 },
 "nbformat": 4,
 "nbformat_minor": 2
}
