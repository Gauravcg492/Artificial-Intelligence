{
 "cells": [
  {
   "cell_type": "code",
   "execution_count": 1,
   "metadata": {},
   "outputs": [],
   "source": [
    "import pandas as pd\n",
    "from sklearn.model_selection import train_test_split\n",
    "from sklearn.preprocessing import StandardScaler as SC\n",
    "import numpy as np"
   ]
  },
  {
   "cell_type": "code",
   "execution_count": 2,
   "metadata": {},
   "outputs": [],
   "source": [
    "df = pd.read_csv('Eyes.csv')\n",
    "X = df[df.columns[1:25]]\n",
    "Y = df[df.columns[25]]\n",
    "X_train, X_test, Y_train, Y_test = train_test_split(X,Y,test_size=0.10,random_state=42)\n",
    "\n",
    "sc = SC()\n",
    "X_train = sc.fit_transform(X_train)\n",
    "X_test = sc.fit_transform(X_test)\n",
    "X_train, X_test, Y_train, Y_test = np.array(X_train), np.array(X_test), np.array(Y_train), np.array(Y_test)"
   ]
  },
  {
   "cell_type": "code",
   "execution_count": 3,
   "metadata": {},
   "outputs": [
    {
     "name": "stderr",
     "output_type": "stream",
     "text": [
      "C:\\Users\\user\\Anaconda3\\lib\\site-packages\\h5py\\__init__.py:36: FutureWarning: Conversion of the second argument of issubdtype from `float` to `np.floating` is deprecated. In future, it will be treated as `np.float64 == np.dtype(float).type`.\n",
      "  from ._conv import register_converters as _register_converters\n",
      "Using TensorFlow backend.\n"
     ]
    }
   ],
   "source": [
    "from keras.models import Sequential\n",
    "from keras.layers import Dense\n",
    "from keras.layers import Activation\n",
    "\n",
    "model = Sequential()\n",
    "model.add(Dense(4,input_dim=X_train.shape[1]))\n",
    "model.add(Activation('relu'))\n",
    "model.add(Dense(4))\n",
    "model.add(Activation('relu'))\n",
    "model.add(Dense(1))\n",
    "model.add(Activation('sigmoid'))"
   ]
  },
  {
   "cell_type": "code",
   "execution_count": 81,
   "metadata": {},
   "outputs": [
    {
     "name": "stdout",
     "output_type": "stream",
     "text": [
      "[1.16866688]\n"
     ]
    }
   ],
   "source": [
    "from scipy.stats import levy\n",
    "\n",
    "def get_weights(weights):\n",
    "    #sws = [np.reshape(weights[0:96],(24,4)),np.reshape(weights[96:100],4),np.reshape(weights[100:116],(4,4)),np.reshape(weights[116:120],4),np.reshape(weights[120:124],(4,1)),weights[124]]\n",
    "    sws = [np.reshape(weights[0:96],(24,4)),[0.,0.,0.,0.],np.reshape(weights[96:112],(4,4)),[0.,0.,0.,0.],np.reshape(weights[112:116],(4,1)),[0.]]\n",
    "    return sws\n",
    "\n",
    "r = levy.rvs(size=1)\n",
    "print(r)\n",
    "weights = np.random.uniform(-1,1,116)\n",
    "weights = weights * r\n",
    "weights = sc.fit_transform(weights.reshape(-1,1))"
   ]
  },
  {
   "cell_type": "code",
   "execution_count": 91,
   "metadata": {},
   "outputs": [
    {
     "name": "stdout",
     "output_type": "stream",
     "text": [
      "0.68\n"
     ]
    }
   ],
   "source": [
    "def predict(weights,X_test,Y_test):\n",
    "    sws = get_weights(weights)\n",
    "    model.set_weights(sws)\n",
    "    y_pred = model.predict(X_test)\n",
    "    # setting a confidence threshhold of 0.9\n",
    "    y_pred_labels = list(y_pred > 0.9)\n",
    "\n",
    "    for i in range(len(y_pred_labels)):\n",
    "        if int(y_pred_labels[i]) == 1 : y_pred_labels[i] = 1\n",
    "        else : y_pred_labels[i] = 0\n",
    "    from sklearn.metrics import accuracy_score\n",
    "    print(accuracy_score(Y_test,y_pred_labels))\n",
    "\n",
    "predict(weights,X_test,Y_test)"
   ]
  },
  {
   "cell_type": "code",
   "execution_count": 93,
   "metadata": {},
   "outputs": [
    {
     "name": "stdout",
     "output_type": "stream",
     "text": [
      "116 116\n",
      "0.72\n"
     ]
    }
   ],
   "source": [
    "from algorithms import simulated_annealing,GeomDecay\n",
    "from neural import NetworkWeights,ContinuousOpt\n",
    "from activation import sigmoid\n",
    "clip_max = 5\n",
    "fitness = NetworkWeights(X_train,Y_train,[24,4,4,1],sigmoid,False,True,0.2)\n",
    "problem = ContinuousOpt(116,fitness,maximize=False,min_val=-1*clip_max,max_val=clip_max,step=0.2)\n",
    "print(problem.get_length(),len(weights))\n",
    "fitted_weights, loss = simulated_annealing(problem,schedule=GeomDecay(),max_attempts=10,max_iters=1000,init_state=weights,curve=False)\n",
    "predict(fitted_weights,X_test,Y_test)"
   ]
  },
  {
   "cell_type": "code",
   "execution_count": null,
   "metadata": {},
   "outputs": [],
   "source": []
  },
  {
   "cell_type": "code",
   "execution_count": null,
   "metadata": {},
   "outputs": [],
   "source": []
  },
  {
   "cell_type": "code",
   "execution_count": null,
   "metadata": {},
   "outputs": [],
   "source": []
  }
 ],
 "metadata": {
  "kernelspec": {
   "display_name": "Python 3",
   "language": "python",
   "name": "python3"
  },
  "language_info": {
   "codemirror_mode": {
    "name": "ipython",
    "version": 3
   },
   "file_extension": ".py",
   "mimetype": "text/x-python",
   "name": "python",
   "nbconvert_exporter": "python",
   "pygments_lexer": "ipython3",
   "version": "3.6.5"
  }
 },
 "nbformat": 4,
 "nbformat_minor": 2
}
